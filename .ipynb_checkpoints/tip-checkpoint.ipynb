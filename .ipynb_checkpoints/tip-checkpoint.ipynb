{
 "cells": [
  {
   "cell_type": "code",
   "execution_count": null,
   "metadata": {},
   "outputs": [],
   "source": [
    "#爬系網與tip公告副程式"
   ]
  },
  {
   "cell_type": "code",
   "execution_count": 238,
   "metadata": {},
   "outputs": [],
   "source": [
    "import requests\n",
    "from bs4 import BeautifulSoup\n",
    "tip_temp={}\n",
    "tip_old={}\n",
    "tip_newS={}\n",
    "itweb_old={}\n",
    "itweb_temp={}"
   ]
  },
  {
   "cell_type": "code",
   "execution_count": 155,
   "metadata": {},
   "outputs": [
    {
     "name": "stdout",
     "output_type": "stream",
     "text": [
      "{'1': '2', '2': '2', '3': '2', '4': '2', '5': '2', '7': '2', '8': '2', '9': '2', '10': '2', '11': '2'}\n"
     ]
    },
    {
     "data": {
      "text/plain": [
       "10"
      ]
     },
     "execution_count": 155,
     "metadata": {},
     "output_type": "execute_result"
    }
   ],
   "source": [
    "tip_old.update({\"1\":\"2\"})\n",
    "tip_old.update({\"2\":\"2\"})\n",
    "tip_old.update({\"3\":\"2\"})\n",
    "tip_old.update({\"4\":\"2\"})\n",
    "tip_old.update({\"5\":\"2\"})\n",
    "tip_old.update({\"7\":\"2\"})\n",
    "tip_old.update({\"8\":\"2\"})\n",
    "tip_old.update({\"9\":\"2\"})\n",
    "tip_old.update({\"10\":\"2\"})\n",
    "tip_old.update({\"11\":\"2\"})\n",
    "print(tip_old)\n",
    "len(tip_old)"
   ]
  },
  {
   "cell_type": "code",
   "execution_count": 239,
   "metadata": {},
   "outputs": [],
   "source": [
    "def tip_update():\n",
    "    global tip_old\n",
    "    global tip_temp\n",
    "    global tip_newS\n",
    "    #http://www.takming.edu.tw/inetoffice/post/show.asp?key=81015\n",
    "    r = requests.get(\"http://www.takming.edu.tw/inetoffice/post/ShowNews.asp\")\n",
    "    r.encoding='big5'\n",
    "    soup = BeautifulSoup(r.text,\"html.parser\")\n",
    "    sel = soup.select(\"a\") \n",
    "    table = soup.find_all('table')\n",
    "    for tr in table[1].find_all('tr')[3:]:\n",
    "        ctemp = 0\n",
    "        ctemp1 = \"\"\n",
    "        ctemp2 = \"\"\n",
    "        for td in tr.find_all('td'):\n",
    "            ctemp+=1\n",
    "            if ctemp==2:\n",
    "                atd = td.select(\"a\")\n",
    "                for atdd in atd[:11]:\n",
    "                    ctemp1=atdd[\"href\"][13:]\n",
    "                    #print(atdd[\"href\"][13:])\n",
    "            elif ctemp==3:\n",
    "                ctemp2=td.text.split()[0]\n",
    "                #print(td.text.split()[0])\n",
    "        #print(\"-----\")\n",
    "        if len(tip_newS)<=10:\n",
    "            tip_newS.update({ctemp1:ctemp2})\n",
    "        else:\n",
    "            break\n",
    "    #print(tip_newS)\n",
    "    tmp1={}\n",
    "    tmp2={}\n",
    "    for s in sel[:11]:\n",
    "        if s['href'][13:]!='':\n",
    "            tip_temp.update({s['href'][13:]:s.text})\n",
    "            #print(s['href'][13:],s.text)\n",
    "    #print(tip_temp)\n",
    "    if len(tip_old)<10:\n",
    "        tip_old = tip_temp.copy()\n",
    "        return tmp1,tmp2\n",
    "    else:\n",
    "        tip_old_keys = list(tip_old.keys())\n",
    "        #print(len(tip_old_keys))\n",
    "        for i in list(tip_temp.keys()):\n",
    "            if tip_old.get(i,\"None\")==\"None\":\n",
    "                tmp1.update({i:tip_temp.get(i)})\n",
    "                tmp2.update({i:tip_newS.get(i)})\n",
    "        tip_old.clear()\n",
    "        tip_old = tip_temp.copy()\n",
    "        return tmp1,tmp2\n",
    "\n",
    "    \n",
    "def itweb_update():\n",
    "    global itweb_old\n",
    "    global itweb_temp\n",
    "    r = requests.get(\"http://www.it.takming.edu.tw/\")\n",
    "    r.encoding='UTF8'\n",
    "    soup = BeautifulSoup(r.text,\"html.parser\")\n",
    "    sel = soup.select(\"#t2_table td a\")\n",
    "    sel2 = soup.select('#t2_table td')\n",
    "    tmp3=[]\n",
    "    tmp4=[]\n",
    "    scount = 0\n",
    "    for s in sel:\n",
    "        #print(s['href'][4:].split('/')[0])\n",
    "        tmp3.append(int(s['href'][4:].split('/')[0]))\n",
    "    for s2 in sel2:\n",
    "        scount+=1\n",
    "        if scount%2==1:\n",
    "            #print(s2.text)\n",
    "            tmp4.append(s2.text)\n",
    "    tmp5=dict(zip(tmp3, tmp4))\n",
    "    tmp5_Max = max(tmp5, key=int)\n",
    "    if len(itweb_old)<1:\n",
    "        itweb_old.update({tmp5_Max:tmp5.get(tmp5_Max)})\n",
    "        return 0,0\n",
    "    else:\n",
    "        itweb_old.clear()\n",
    "        itweb_old.update({tmp5_Max:tmp5.get(tmp5_Max)})\n",
    "        return tmp5_Max,tmp5.get(tmp5_Max)\n",
    "    \n",
    "    \n",
    "    "
   ]
  },
  {
   "cell_type": "code",
   "execution_count": 190,
   "metadata": {},
   "outputs": [
    {
     "name": "stdout",
     "output_type": "stream",
     "text": [
      "{} {}\n"
     ]
    }
   ],
   "source": [
    "task1,task2 = tip_update() \n",
    "print(task1,task2)"
   ]
  },
  {
   "cell_type": "code",
   "execution_count": 241,
   "metadata": {},
   "outputs": [
    {
     "data": {
      "text/plain": [
       "(380, '108學年度科四甲乙實務專題(I)發表通過名單')"
      ]
     },
     "execution_count": 241,
     "metadata": {},
     "output_type": "execute_result"
    }
   ],
   "source": [
    "task3,task4 = itweb_update()\n",
    "task3,task4"
   ]
  },
  {
   "cell_type": "code",
   "execution_count": null,
   "metadata": {},
   "outputs": [],
   "source": []
  },
  {
   "cell_type": "code",
   "execution_count": null,
   "metadata": {},
   "outputs": [],
   "source": []
  }
 ],
 "metadata": {
  "kernelspec": {
   "display_name": "Python 3",
   "language": "python",
   "name": "python3"
  },
  "language_info": {
   "codemirror_mode": {
    "name": "ipython",
    "version": 3
   },
   "file_extension": ".py",
   "mimetype": "text/x-python",
   "name": "python",
   "nbconvert_exporter": "python",
   "pygments_lexer": "ipython3",
   "version": "3.7.4"
  }
 },
 "nbformat": 4,
 "nbformat_minor": 2
}
